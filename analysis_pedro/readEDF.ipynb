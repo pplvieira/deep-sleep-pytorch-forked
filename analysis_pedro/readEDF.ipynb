{
 "cells": [
  {
   "cell_type": "markdown",
   "metadata": {},
   "source": [
    "#### Just simple visualization and reading of edf file\n"
   ]
  },
  {
   "cell_type": "code",
   "execution_count": 1,
   "metadata": {},
   "outputs": [
    {
     "name": "stdout",
     "output_type": "stream",
     "text": [
      "Extracting EDF parameters from C:\\Users\\Pedro\\Desktop\\Universidade\\DTU 2A 1S spring\\Specialcourse\\data\\2024-11-22_14-08-21_8e19cc41_27_electrodes.edf...\n",
      "EDF file detected\n",
      "Setting channel info structure...\n",
      "Creating raw.info structure...\n"
     ]
    }
   ],
   "source": [
    "import mne\n",
    "\n",
    "\n",
    "DATAFOLDER = \"C:\\\\Users\\\\Pedro\\\\Desktop\\\\Universidade\\\\DTU 2A 1S spring\\\\Specialcourse\\\\data\"\n",
    "mne_raw = mne.io.read_raw_edf(DATAFOLDER + \"\\\\2024-11-22_14-08-21_8e19cc41_27_electrodes.edf\", preload=False)"
   ]
  },
  {
   "cell_type": "code",
   "execution_count": 2,
   "metadata": {},
   "outputs": [
    {
     "name": "stdout",
     "output_type": "stream",
     "text": [
      "Extracting EDF parameters from C:\\Users\\Pedro\\Desktop\\Universidade\\DTU 2A 1S spring\\Specialcourse\\data\\2024-11-22_14-08-21_8e19cc41_27_electrodes.edf...\n",
      "EDF file detected\n",
      "Setting channel info structure...\n",
      "Creating raw.info structure...\n",
      "FP1 0\n",
      "FP2 1\n",
      "F3 2\n",
      "F4 3\n",
      "C3 4\n",
      "C4 5\n",
      "P3 6\n",
      "P4 7\n",
      "O1 8\n",
      "O2 9\n",
      "F7 10\n",
      "F8 11\n",
      "T7 12\n",
      "T8 13\n",
      "TP7 14\n",
      "TP8 15\n",
      "P7 16\n",
      "P8 17\n",
      "F9 18\n",
      "F10 19\n",
      "T9 20\n",
      "T10 21\n",
      "P9 22\n",
      "P10 23\n",
      "Fz 24\n",
      "Cz 25\n",
      "Pz 26\n",
      "R1 27\n",
      "R2 28\n",
      "TIP 29\n",
      "\n",
      " 30 ['FP1', 'FP2', 'F3', 'F4', 'C3', 'C4', 'P3', 'P4', 'O1', 'O2', 'F7', 'F8', 'T7', 'T8', 'TP7', 'TP8', 'P7', 'P8', 'F9', 'F10', 'T9', 'T10', 'P9', 'P10', 'Fz', 'Cz', 'Pz', 'R1', 'R2', 'TIP']\n",
      "\n",
      " ['eeg', 'eeg', 'eeg', 'eeg', 'eeg', 'eeg', 'eeg', 'eeg', 'eeg', 'eeg', 'eeg', 'eeg', 'eeg', 'eeg', 'eeg', 'eeg', 'eeg', 'eeg', 'eeg', 'eeg', 'eeg', 'eeg', 'eeg', 'eeg', 'eeg', 'eeg', 'eeg', 'eeg', 'eeg', 'eeg']\n"
     ]
    }
   ],
   "source": [
    "mne_raw.ch_names\n",
    "\n",
    "mne_raw = mne.io.read_raw_edf(DATAFOLDER + \"\\\\2024-11-22_14-08-21_8e19cc41_27_electrodes.edf\", preload=False)\n",
    "for ch_name, ch_i in enumerate(mne_raw.ch_names):\n",
    "    print(ch_i, ch_name)\n",
    "\n",
    "print(\"\\n\", len(mne_raw.info.ch_names), mne_raw.info.ch_names)\n",
    "print(\"\\n\", mne_raw.info.get_channel_types())"
   ]
  },
  {
   "cell_type": "code",
   "execution_count": 1,
   "metadata": {},
   "outputs": [],
   "source": [
    "channels = ['FP1', 'FP2', 'F3', 'F4', 'C3', 'C4', 'P3', 'P4', 'O1', 'O2', 'F7', 'F8', 'T7', 'T8', 'TP7', 'TP8', 'P7', 'P8', 'F9', 'F10', 'T9', 'T10', 'P9', 'P10', 'Fz', 'Cz', 'Pz', 'R1', 'R2', 'TIP']"
   ]
  },
  {
   "cell_type": "code",
   "execution_count": 3,
   "metadata": {},
   "outputs": [
    {
     "name": "stdout",
     "output_type": "stream",
     "text": [
      "True\n"
     ]
    }
   ],
   "source": [
    "print(\"F3\" in channels)"
   ]
  },
  {
   "cell_type": "code",
   "execution_count": null,
   "metadata": {},
   "outputs": [],
   "source": []
  }
 ],
 "metadata": {
  "kernelspec": {
   "display_name": "Python 3",
   "language": "python",
   "name": "python3"
  },
  "language_info": {
   "codemirror_mode": {
    "name": "ipython",
    "version": 3
   },
   "file_extension": ".py",
   "mimetype": "text/x-python",
   "name": "python",
   "nbconvert_exporter": "python",
   "pygments_lexer": "ipython3",
   "version": "3.9.13"
  }
 },
 "nbformat": 4,
 "nbformat_minor": 2
}
